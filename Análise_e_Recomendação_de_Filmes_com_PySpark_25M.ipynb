{
  "nbformat": 4,
  "nbformat_minor": 0,
  "metadata": {
    "colab": {
      "provenance": [],
      "authorship_tag": "ABX9TyM0HgqLzjokaC5NMBjtMzCc",
      "include_colab_link": true
    },
    "kernelspec": {
      "name": "python3",
      "display_name": "Python 3"
    },
    "language_info": {
      "name": "python"
    }
  },
  "cells": [
    {
      "cell_type": "markdown",
      "metadata": {
        "id": "view-in-github",
        "colab_type": "text"
      },
      "source": [
        "<a href=\"https://colab.research.google.com/github/duduremiao/ExerciciosCG-GA/blob/main/An%C3%A1lise_e_Recomenda%C3%A7%C3%A3o_de_Filmes_com_PySpark_25M.ipynb\" target=\"_parent\"><img src=\"https://colab.research.google.com/assets/colab-badge.svg\" alt=\"Open In Colab\"/></a>"
      ]
    },
    {
      "cell_type": "markdown",
      "source": [
        "# **Análise e Recomendação de Filmes com PySpark**"
      ],
      "metadata": {
        "id": "WSUJVKacNCR1"
      }
    },
    {
      "cell_type": "markdown",
      "source": [
        "**Eduardo Arruda Remião e Rafael do Amaral Porciuncula**\n",
        "\n",
        "\n"
      ],
      "metadata": {
        "id": "6ghVnajDNKBr"
      }
    },
    {
      "cell_type": "markdown",
      "source": [
        "\n",
        "\n",
        "---\n",
        "\n"
      ],
      "metadata": {
        "id": "HWBb4xgZNW8e"
      }
    },
    {
      "cell_type": "markdown",
      "source": [
        "**Instalar bibliotecas necessárias**"
      ],
      "metadata": {
        "id": "3xB1HfEheddk"
      }
    },
    {
      "cell_type": "code",
      "execution_count": null,
      "metadata": {
        "colab": {
          "base_uri": "https://localhost:8080/"
        },
        "id": "PPDoUmNXeXvk",
        "outputId": "c86363fc-213a-44d9-fdfc-22f588bb4528"
      },
      "outputs": [
        {
          "output_type": "stream",
          "name": "stdout",
          "text": [
            "Requirement already satisfied: pyspark in /usr/local/lib/python3.10/dist-packages (3.5.3)\n",
            "Collecting findspark\n",
            "  Downloading findspark-2.0.1-py2.py3-none-any.whl.metadata (352 bytes)\n",
            "Requirement already satisfied: kagglehub in /usr/local/lib/python3.10/dist-packages (0.3.4)\n",
            "Requirement already satisfied: matplotlib in /usr/local/lib/python3.10/dist-packages (3.8.0)\n",
            "Requirement already satisfied: py4j==0.10.9.7 in /usr/local/lib/python3.10/dist-packages (from pyspark) (0.10.9.7)\n",
            "Requirement already satisfied: packaging in /usr/local/lib/python3.10/dist-packages (from kagglehub) (24.2)\n",
            "Requirement already satisfied: requests in /usr/local/lib/python3.10/dist-packages (from kagglehub) (2.32.3)\n",
            "Requirement already satisfied: tqdm in /usr/local/lib/python3.10/dist-packages (from kagglehub) (4.66.6)\n",
            "Requirement already satisfied: contourpy>=1.0.1 in /usr/local/lib/python3.10/dist-packages (from matplotlib) (1.3.1)\n",
            "Requirement already satisfied: cycler>=0.10 in /usr/local/lib/python3.10/dist-packages (from matplotlib) (0.12.1)\n",
            "Requirement already satisfied: fonttools>=4.22.0 in /usr/local/lib/python3.10/dist-packages (from matplotlib) (4.55.0)\n",
            "Requirement already satisfied: kiwisolver>=1.0.1 in /usr/local/lib/python3.10/dist-packages (from matplotlib) (1.4.7)\n",
            "Requirement already satisfied: numpy<2,>=1.21 in /usr/local/lib/python3.10/dist-packages (from matplotlib) (1.26.4)\n",
            "Requirement already satisfied: pillow>=6.2.0 in /usr/local/lib/python3.10/dist-packages (from matplotlib) (11.0.0)\n",
            "Requirement already satisfied: pyparsing>=2.3.1 in /usr/local/lib/python3.10/dist-packages (from matplotlib) (3.2.0)\n",
            "Requirement already satisfied: python-dateutil>=2.7 in /usr/local/lib/python3.10/dist-packages (from matplotlib) (2.8.2)\n",
            "Requirement already satisfied: six>=1.5 in /usr/local/lib/python3.10/dist-packages (from python-dateutil>=2.7->matplotlib) (1.16.0)\n",
            "Requirement already satisfied: charset-normalizer<4,>=2 in /usr/local/lib/python3.10/dist-packages (from requests->kagglehub) (3.4.0)\n",
            "Requirement already satisfied: idna<4,>=2.5 in /usr/local/lib/python3.10/dist-packages (from requests->kagglehub) (3.10)\n",
            "Requirement already satisfied: urllib3<3,>=1.21.1 in /usr/local/lib/python3.10/dist-packages (from requests->kagglehub) (2.2.3)\n",
            "Requirement already satisfied: certifi>=2017.4.17 in /usr/local/lib/python3.10/dist-packages (from requests->kagglehub) (2024.8.30)\n",
            "Downloading findspark-2.0.1-py2.py3-none-any.whl (4.4 kB)\n",
            "Installing collected packages: findspark\n",
            "Successfully installed findspark-2.0.1\n"
          ]
        }
      ],
      "source": [
        "!pip install pyspark findspark kagglehub matplotlib"
      ]
    },
    {
      "cell_type": "markdown",
      "source": [
        "\n",
        "\n",
        "---\n",
        "\n"
      ],
      "metadata": {
        "id": "svA4xJVeNiLS"
      }
    },
    {
      "cell_type": "markdown",
      "source": [
        "**Importando bibliotecas necessárias**"
      ],
      "metadata": {
        "id": "fj6t8NPtef5W"
      }
    },
    {
      "cell_type": "code",
      "source": [
        "import findspark\n",
        "findspark.init()\n",
        "\n",
        "from pyspark.sql import SparkSession\n",
        "from pyspark.sql.functions import col, count, avg, split, explode\n",
        "import matplotlib.pyplot as plt"
      ],
      "metadata": {
        "id": "V07b2-l4ehYX"
      },
      "execution_count": null,
      "outputs": []
    },
    {
      "cell_type": "markdown",
      "source": [
        "\n",
        "\n",
        "---\n",
        "\n"
      ],
      "metadata": {
        "id": "taHxKqMcNpOu"
      }
    },
    {
      "cell_type": "markdown",
      "source": [
        "**Criar sessão Spark**"
      ],
      "metadata": {
        "id": "JOOAfAcpei8a"
      }
    },
    {
      "cell_type": "code",
      "source": [
        "\n",
        "spark = SparkSession.builder \\\n",
        "    .appName(\"MovieLens25M Analysis and Recommendations\") \\\n",
        "    .getOrCreate()"
      ],
      "metadata": {
        "id": "Z4EtHrAoekYd"
      },
      "execution_count": null,
      "outputs": []
    },
    {
      "cell_type": "markdown",
      "source": [
        "\n",
        "\n",
        "---\n",
        "\n"
      ],
      "metadata": {
        "id": "IVEIct3kNqe_"
      }
    },
    {
      "cell_type": "markdown",
      "source": [
        "**Baixar dataset do Kaggle**"
      ],
      "metadata": {
        "id": "nu0tSJxNelx9"
      }
    },
    {
      "cell_type": "code",
      "source": [
        "import kagglehub\n",
        "\n",
        "\n",
        "path = kagglehub.dataset_download(\"garymk/movielens-25m-dataset\")\n",
        "print(\"Dataset saved at:\", path)"
      ],
      "metadata": {
        "colab": {
          "base_uri": "https://localhost:8080/"
        },
        "id": "iOlmvVs6epYr",
        "outputId": "8adb0ecb-7f03-4776-ea64-401f5c6e9b7c"
      },
      "execution_count": null,
      "outputs": [
        {
          "output_type": "stream",
          "name": "stdout",
          "text": [
            "Downloading from https://www.kaggle.com/api/v1/datasets/download/garymk/movielens-25m-dataset?dataset_version_number=1...\n"
          ]
        },
        {
          "output_type": "stream",
          "name": "stderr",
          "text": [
            "100%|██████████| 258M/258M [00:02<00:00, 90.8MB/s]"
          ]
        },
        {
          "output_type": "stream",
          "name": "stdout",
          "text": [
            "Extracting files...\n"
          ]
        },
        {
          "output_type": "stream",
          "name": "stderr",
          "text": [
            "\n"
          ]
        },
        {
          "output_type": "stream",
          "name": "stdout",
          "text": [
            "Dataset saved at: /root/.cache/kagglehub/datasets/garymk/movielens-25m-dataset/versions/1\n"
          ]
        }
      ]
    },
    {
      "cell_type": "markdown",
      "source": [
        "\n",
        "\n",
        "---\n",
        "\n"
      ],
      "metadata": {
        "id": "ZHfWdRZ7N1-o"
      }
    },
    {
      "cell_type": "markdown",
      "source": [
        "**Caminhos para os arquivos do dataset MovieLens 25M**"
      ],
      "metadata": {
        "id": "5An9ELM1etZQ"
      }
    },
    {
      "cell_type": "code",
      "source": [
        "ratings_path = f\"{path}/ml-25m/ratings.csv\"\n",
        "movies_path = f\"{path}/ml-25m/movies.csv\""
      ],
      "metadata": {
        "id": "TyIhIR3jesvq"
      },
      "execution_count": null,
      "outputs": []
    },
    {
      "cell_type": "markdown",
      "source": [
        "\n",
        "\n",
        "---\n",
        "\n"
      ],
      "metadata": {
        "id": "DVylq2liN6RL"
      }
    },
    {
      "cell_type": "markdown",
      "source": [
        "**Carregar os dados**\n",
        "\n",
        "\n",
        "\n",
        "*   **sep=**\",\" : O separador usado nos arquivos CSV é uma vírgula (,)\n",
        "\n",
        "*   **header=**True : Este parâmetro indica que a primeira linha do arquivo contém os nomes das colunas, ou seja, será usada como cabeçalho para o DataFrame.\n",
        "\n",
        "*   **inferSchema=**True : Este parâmetro solicita que o PySpark automaticamente determine o tipo de dados de cada coluna com base nos valores presentes no arquivo CSV.\n",
        "\n",
        "\n"
      ],
      "metadata": {
        "id": "f2hkRetfev9D"
      }
    },
    {
      "cell_type": "code",
      "source": [
        "# Carregar o arquivo de avaliações\n",
        "ratings = spark.read.csv(\n",
        "    ratings_path,\n",
        "    sep=\",\",\n",
        "    header=True,\n",
        "    inferSchema=True\n",
        ")\n",
        "\n",
        "# Carregar o arquivo de filmes\n",
        "movies = spark.read.csv(\n",
        "    movies_path,\n",
        "    sep=\",\",\n",
        "    header=True,\n",
        "    inferSchema=True\n",
        ")\n",
        "\n",
        "# Verificar esquemas\n",
        "print(\"Esquema de Ratings:\")\n",
        "ratings.printSchema()\n",
        "\n",
        "print(\"Esquema de Movies:\")\n",
        "movies.printSchema()\n"
      ],
      "metadata": {
        "id": "GCseX8aCezCZ",
        "colab": {
          "base_uri": "https://localhost:8080/"
        },
        "outputId": "e9f0a1a6-4633-48b3-ae6b-e13f3ad2b1d7"
      },
      "execution_count": null,
      "outputs": [
        {
          "output_type": "stream",
          "name": "stdout",
          "text": [
            "Esquema de Ratings:\n",
            "root\n",
            " |-- userId: integer (nullable = true)\n",
            " |-- movieId: integer (nullable = true)\n",
            " |-- rating: double (nullable = true)\n",
            " |-- timestamp: integer (nullable = true)\n",
            "\n",
            "Esquema de Movies:\n",
            "root\n",
            " |-- movieId: integer (nullable = true)\n",
            " |-- title: string (nullable = true)\n",
            " |-- genres: string (nullable = true)\n",
            "\n"
          ]
        }
      ]
    },
    {
      "cell_type": "markdown",
      "source": [
        "\n",
        "\n",
        "---\n",
        "\n"
      ],
      "metadata": {
        "id": "EsGFuAVZN_yP"
      }
    },
    {
      "cell_type": "markdown",
      "source": [
        "**Análise Exploratória**\n",
        "\n",
        "*   **ratings.groupBy(\"movieId\")** : Agrupa os dados do DataFrame ratings pela coluna movieId\n",
        "\n",
        "*   **groupBy()** agrupa as avaliações por filme\n",
        "\n",
        "*   **.count()** : conta quantas avaliações existem para cada filme\n",
        "\n",
        "*   **.orderBy(\"count\", ascending=False)** : O DataFrame é ordenado com base na coluna count (nº de avaliações) de forma decrescente (ascending=False).\n",
        "\n",
        "\n",
        "\n"
      ],
      "metadata": {
        "id": "aDYY8Y1oe6cu"
      }
    },
    {
      "cell_type": "code",
      "source": [
        "# Contagem de avaliações por filme\n",
        "top_movies = ratings.groupBy(\"movieId\") \\\n",
        "    .count() \\\n",
        "    .join(movies, \"movieId\") \\\n",
        "    .orderBy(\"count\", ascending=False)\n",
        "\n",
        "print(\"Top 10 filmes mais avaliados:\")\n",
        "top_movies.show(10, truncate=False)"
      ],
      "metadata": {
        "id": "wVKv60-he73G",
        "colab": {
          "base_uri": "https://localhost:8080/"
        },
        "outputId": "00a57f03-1a92-46cb-bf4e-924af8728429"
      },
      "execution_count": null,
      "outputs": [
        {
          "output_type": "stream",
          "name": "stdout",
          "text": [
            "Top 10 filmes mais avaliados:\n",
            "+-------+-----+-----------------------------------------+--------------------------------+\n",
            "|movieId|count|title                                    |genres                          |\n",
            "+-------+-----+-----------------------------------------+--------------------------------+\n",
            "|356    |81491|Forrest Gump (1994)                      |Comedy|Drama|Romance|War        |\n",
            "|318    |81482|Shawshank Redemption, The (1994)         |Crime|Drama                     |\n",
            "|296    |79672|Pulp Fiction (1994)                      |Comedy|Crime|Drama|Thriller     |\n",
            "|593    |74127|Silence of the Lambs, The (1991)         |Crime|Horror|Thriller           |\n",
            "|2571   |72674|Matrix, The (1999)                       |Action|Sci-Fi|Thriller          |\n",
            "|260    |68717|Star Wars: Episode IV - A New Hope (1977)|Action|Adventure|Sci-Fi         |\n",
            "|480    |64144|Jurassic Park (1993)                     |Action|Adventure|Sci-Fi|Thriller|\n",
            "|527    |60411|Schindler's List (1993)                  |Drama|War                       |\n",
            "|110    |59184|Braveheart (1995)                        |Action|Drama|War                |\n",
            "|2959   |58773|Fight Club (1999)                        |Action|Crime|Drama|Thriller     |\n",
            "+-------+-----+-----------------------------------------+--------------------------------+\n",
            "only showing top 10 rows\n",
            "\n"
          ]
        }
      ]
    },
    {
      "cell_type": "markdown",
      "source": [
        "\n",
        "\n",
        "---\n",
        "\n"
      ],
      "metadata": {
        "id": "wc1_o4gwOXbo"
      }
    },
    {
      "cell_type": "markdown",
      "source": [
        "**Exibir os 10 filmes com melhores médias (considerando pelo menos 10.000 avaliações)**\n",
        "\n",
        "*   **ratings.groupBy(\"movieId\")** : Agrupa as avaliações no DataFrame ratings pela coluna movieId\n",
        "*   **.agg()** : Usada para realizar agregações nos grupos\n",
        "\n",
        "*   **count(\"rating\")** : Conta o número total de avaliações feitas para cada filme.\n",
        "*  **avg(\"rating\")** : Calcula a média das avaliações para cada filme\n",
        "\n",
        "*   **.filter(\"num_ratings >= 10000\")** : Mantém apenas os filmes que possuem pelo menos 10.000 avaliações\n",
        "\n",
        "*   **.join(movies, \"movieId\")** : O DataFrame filtered_ratings é combinado com o DataFrame movies, que contém informações sobre os filmes\n",
        "\n",
        "*   **.orderBy(\"average_rating\", ascending=False)** : Ordenação pela coluna average_rating de forma decrescente (ascending=False)"
      ],
      "metadata": {
        "id": "_Pd55FTEe9zO"
      }
    },
    {
      "cell_type": "code",
      "source": [
        "from pyspark.sql.functions import avg, count\n",
        "\n",
        "# Contar número de avaliações por filme\n",
        "ratings_count = ratings.groupBy(\"movieId\") \\\n",
        "    .agg(\n",
        "        count(\"rating\").alias(\"num_ratings\"),\n",
        "        avg(\"rating\").alias(\"average_rating\")\n",
        "    )\n",
        "\n",
        "# Filtrar filmes com pelo menos 10.000 avaliações\n",
        "filtered_ratings = ratings_count.filter(\"num_ratings >= 10000\")\n",
        "\n",
        "# Juntar com o DataFrame de filmes e ordenar por média de avaliação\n",
        "average_ratings = filtered_ratings.join(movies, \"movieId\") \\\n",
        "    .orderBy(\"average_rating\", ascending=False)\n",
        "\n",
        "\n",
        "print(\"Top 10 filmes com melhores médias de avaliação (min. 10.000 avaliações):\")\n",
        "average_ratings.select(\"title\", \"average_rating\", \"num_ratings\").show(10, truncate=False)\n"
      ],
      "metadata": {
        "colab": {
          "base_uri": "https://localhost:8080/"
        },
        "id": "IxIgkm69e_d8",
        "outputId": "2c4b7a54-a60e-4e8d-d5f3-184ea7a10b78"
      },
      "execution_count": null,
      "outputs": [
        {
          "output_type": "stream",
          "name": "stdout",
          "text": [
            "Top 10 filmes com melhores médias de avaliação (min. 10.000 avaliações):\n",
            "+-------------------------------------------+------------------+-----------+\n",
            "|title                                      |average_rating    |num_ratings|\n",
            "+-------------------------------------------+------------------+-----------+\n",
            "|Shawshank Redemption, The (1994)           |4.413576004516335 |81482      |\n",
            "|Godfather, The (1972)                      |4.324336165187245 |52498      |\n",
            "|Usual Suspects, The (1995)                 |4.284353213163313 |55366      |\n",
            "|Godfather: Part II, The (1974)             |4.2617585117585115|34188      |\n",
            "|Seven Samurai (Shichinin no samurai) (1954)|4.25476920775043  |13367      |\n",
            "|Schindler's List (1993)                    |4.247579083279535 |60411      |\n",
            "|12 Angry Men (1957)                        |4.243014062405697 |16569      |\n",
            "|Rear Window (1954)                         |4.237947624243627 |20162      |\n",
            "|Fight Club (1999)                          |4.228310618821568 |58773      |\n",
            "|One Flew Over the Cuckoo's Nest (1975)     |4.2186616007543405|36058      |\n",
            "+-------------------------------------------+------------------+-----------+\n",
            "only showing top 10 rows\n",
            "\n"
          ]
        }
      ]
    },
    {
      "cell_type": "markdown",
      "source": [
        "\n",
        "\n",
        "---\n",
        "\n"
      ],
      "metadata": {
        "id": "RxbhxoYmOf6S"
      }
    },
    {
      "cell_type": "markdown",
      "source": [
        "**Distribuição de ratings**\n",
        "\n",
        "\n",
        "\n",
        "*   **ratings.select(\"rating\")** : Selecionado apenas a coluna rating do DataFrame ratings\n",
        "*   **.groupBy(\"rating\")** : Agrupa os dados pela coluna rating\n",
        "*   **.count()** : Conta quantas vezes cada nota (rating) aparece no DataFrame\n",
        "*   **.orderBy(\"rating\")** : Ordena os resultados pelo valor da coluna rating\n",
        "*   **.show()** : Exibe o resultado na tela.\n",
        "\n"
      ],
      "metadata": {
        "id": "nQ2roLlpfCh2"
      }
    },
    {
      "cell_type": "code",
      "source": [
        "ratings_distribution = ratings.select(\"rating\") \\\n",
        "    .groupBy(\"rating\") \\\n",
        "    .count() \\\n",
        "    .orderBy(\"rating\")\n",
        "\n",
        "ratings_distribution.show()\n"
      ],
      "metadata": {
        "colab": {
          "base_uri": "https://localhost:8080/"
        },
        "id": "g7Zx0-ErfCSF",
        "outputId": "acfb6e75-de7b-4888-db9a-98cf96a60537"
      },
      "execution_count": null,
      "outputs": [
        {
          "output_type": "stream",
          "name": "stdout",
          "text": [
            "+------+-------+\n",
            "|rating|  count|\n",
            "+------+-------+\n",
            "|   0.5| 393068|\n",
            "|   1.0| 776815|\n",
            "|   1.5| 399490|\n",
            "|   2.0|1640868|\n",
            "|   2.5|1262797|\n",
            "|   3.0|4896928|\n",
            "|   3.5|3177318|\n",
            "|   4.0|6639798|\n",
            "|   4.5|2200539|\n",
            "|   5.0|3612474|\n",
            "+------+-------+\n",
            "\n"
          ]
        }
      ]
    },
    {
      "cell_type": "markdown",
      "source": [
        "\n",
        "\n",
        "---\n",
        "\n"
      ],
      "metadata": {
        "id": "LlalIiaMOlHM"
      }
    },
    {
      "cell_type": "markdown",
      "source": [
        "**Processar gêneros**\n",
        "\n",
        "\n",
        "*   **split(col(\"genres\"), \"\\\\|\")** : A função split divide o conteúdo da coluna genres em uma lista de gêneros.\n",
        "*   *   O valor na coluna genres é uma string com gêneros separados por pipe (|), por exemplo: \"Action|Adventure|Sci-Fi\".\n",
        "*   *   O comando split quebra essa string em uma lista de gêneros, como [\"Action\", \"Adventure\", \"Sci-Fi\"]\n",
        "\n",
        "*   **explode(col(\"genres\"))** : A função explode pega a lista de gêneros de cada filme e cria uma linha separada para cada gênero\n",
        "\n",
        "*   **filter(col(\"genre\") == \"Action\")** : Este comando filtra os filmes que têm o gênero \"Action\" na coluna genre criada na etapa anterior\n",
        "\n"
      ],
      "metadata": {
        "id": "KAWVXS3xfIU8"
      }
    },
    {
      "cell_type": "code",
      "source": [
        "# Dividir a coluna 'genres' em uma lista e explodir\n",
        "movies = movies.withColumn(\"genres\", split(col(\"genres\"), \"\\\\|\"))\n",
        "movies_exploded = movies.withColumn(\"genre\", explode(col(\"genres\")))\n",
        "\n",
        "# Exemplo: Filmes de Ação\n",
        "action_movies = movies_exploded.filter(col(\"genre\") == \"Action\")\n",
        "\n",
        "print(\"Exemplo de filmes de ação:\")\n",
        "action_movies.show(10, truncate=False)"
      ],
      "metadata": {
        "colab": {
          "base_uri": "https://localhost:8080/"
        },
        "id": "pvj4azJpfJ6n",
        "outputId": "6fd36e51-1025-4342-debc-94a623560fb4"
      },
      "execution_count": null,
      "outputs": [
        {
          "output_type": "stream",
          "name": "stdout",
          "text": [
            "Exemplo de filmes de ação:\n",
            "+-------+-----------------------------------------+----------------------------------------+------+\n",
            "|movieId|title                                    |genres                                  |genre |\n",
            "+-------+-----------------------------------------+----------------------------------------+------+\n",
            "|6      |Heat (1995)                              |[Action, Crime, Thriller]               |Action|\n",
            "|9      |Sudden Death (1995)                      |[Action]                                |Action|\n",
            "|10     |GoldenEye (1995)                         |[Action, Adventure, Thriller]           |Action|\n",
            "|15     |Cutthroat Island (1995)                  |[Action, Adventure, Romance]            |Action|\n",
            "|20     |Money Train (1995)                       |[Action, Comedy, Crime, Drama, Thriller]|Action|\n",
            "|23     |Assassins (1995)                         |[Action, Crime, Thriller]               |Action|\n",
            "|42     |Dead Presidents (1995)                   |[Action, Crime, Drama]                  |Action|\n",
            "|44     |Mortal Kombat (1995)                     |[Action, Adventure, Fantasy]            |Action|\n",
            "|51     |Guardian Angel (1994)                    |[Action, Drama, Thriller]               |Action|\n",
            "|66     |Lawnmower Man 2: Beyond Cyberspace (1996)|[Action, Sci-Fi, Thriller]              |Action|\n",
            "+-------+-----------------------------------------+----------------------------------------+------+\n",
            "only showing top 10 rows\n",
            "\n"
          ]
        }
      ]
    },
    {
      "cell_type": "markdown",
      "source": [
        "\n",
        "\n",
        "---\n",
        "\n"
      ],
      "metadata": {
        "id": "lX_ooylUOp5K"
      }
    },
    {
      "cell_type": "markdown",
      "source": [
        "**Recomendação de Filmes**\n",
        "\n",
        "\n",
        "\n",
        "*   **ratings.randomSplit([0.8, 0.2], seed=42)** : randomSplit divide o DataFrame ratings em dois conjuntos: 80% train e 20% test\n",
        "*   *   O seed=42 garante que sempre que executar o código, a divisão dos dados seja a mesma.\n",
        "\n",
        "\n",
        "\n",
        "**ALS** : O algoritmo Alternating Least Squares (ALS) é uma técnica de fatoração de matrizes usada para recomendação em sistemas baseados em dados de interação, como no caso de filmes, músicas, etc.\n",
        "\n",
        "\n",
        "*   **maxIter=10** : Nº máximo de iterações que o algoritmo fará para tentar otimizar a decomposição das matrizes (reduzir o erro)\n",
        "*   **regParam=0.1** : Parâmetro que ajuda a evitar o overfitting (modelo não generaliza bem para novos dados)\n",
        "*  **userCol=\"userId\"** : Coluna no DataFrame que contém os identificadores dos usuários\n",
        "*   **itemCol=\"movieId\"** : Coluna que contém os identificadores dos itens (filmes)\n",
        "*   **ratingCol=\"rating\"** : Coluna que contém as avaliações feitas pelos usuários.\n",
        "*   **coldStartStrategy=\"drop\"** : Usado para lidar com o problema de cold start (quando o modelo tenta fazer previsões para um usuário ou item que não tem dados suficientes)\n",
        "*   *   **drop** : Remover os casos de cold start (usuários ou itens com pouca ou nenhuma interação nos dados)\n"
      ],
      "metadata": {
        "id": "s0NJQPOafMRs"
      }
    },
    {
      "cell_type": "code",
      "source": [
        "# Dividir dados em treino e teste\n",
        "train, test = ratings.randomSplit([0.8, 0.2], seed=42)\n",
        "\n",
        "# Importar ALS para recomendação\n",
        "from pyspark.ml.recommendation import ALS\n",
        "from pyspark.ml.evaluation import RegressionEvaluator\n",
        "\n",
        "# Configurar modelo ALS\n",
        "als = ALS(\n",
        "    maxIter=10,\n",
        "    regParam=0.1,\n",
        "    userCol=\"userId\",\n",
        "    itemCol=\"movieId\",\n",
        "    ratingCol=\"rating\",\n",
        "    coldStartStrategy=\"drop\"\n",
        ")\n"
      ],
      "metadata": {
        "id": "aNPaUr8xfN0D"
      },
      "execution_count": null,
      "outputs": []
    },
    {
      "cell_type": "markdown",
      "source": [
        "\n",
        "\n",
        "---\n",
        "\n"
      ],
      "metadata": {
        "id": "D3PReRhvOuXg"
      }
    },
    {
      "cell_type": "markdown",
      "source": [
        "# **Treinar o modelo**"
      ],
      "metadata": {
        "id": "8I0m0MsxfP8e"
      }
    },
    {
      "cell_type": "code",
      "source": [
        "model = als.fit(train)"
      ],
      "metadata": {
        "id": "e98QlzIlfRd5"
      },
      "execution_count": null,
      "outputs": []
    },
    {
      "cell_type": "markdown",
      "source": [
        "\n",
        "\n",
        "---\n",
        "\n"
      ],
      "metadata": {
        "id": "EX8GHpLpPAOc"
      }
    },
    {
      "cell_type": "markdown",
      "source": [
        "**Avaliar o modelo no conjunto de teste**\n",
        "\n",
        "\n",
        "*   O método ***transform*** aplica o modelo treinado ao conjunto de teste. O conjunto de teste contém interações que o modelo ainda não viu, ou seja, avaliações dos filmes feitas pelos usuários\n",
        "\n",
        "\n"
      ],
      "metadata": {
        "id": "YWHsVWtVfTE-"
      }
    },
    {
      "cell_type": "code",
      "source": [
        "predictions = model.transform(test)\n",
        "evaluator = RegressionEvaluator(\n",
        "    metricName=\"rmse\",\n",
        "    labelCol=\"rating\",\n",
        "    predictionCol=\"prediction\"\n",
        ")\n",
        "rmse = evaluator.evaluate(predictions)\n",
        "print(f\"Root Mean Square Error (RMSE): {rmse}\")"
      ],
      "metadata": {
        "id": "KVz0fpvffUnq",
        "colab": {
          "base_uri": "https://localhost:8080/"
        },
        "outputId": "ca39c47e-2cd4-49b6-95f1-008aae31f7c2"
      },
      "execution_count": null,
      "outputs": [
        {
          "output_type": "stream",
          "name": "stdout",
          "text": [
            "Root Mean Square Error (RMSE): 0.8077452488113767\n"
          ]
        }
      ]
    },
    {
      "cell_type": "markdown",
      "source": [
        "\n",
        "\n",
        "---\n",
        "\n"
      ],
      "metadata": {
        "id": "IEbrLyuRPDZR"
      }
    },
    {
      "cell_type": "markdown",
      "source": [
        "**Recomendação personalizada para o usuário id 1**\n",
        "\n",
        "\n",
        "*   **model.recommendForAllUsers(10)** : Gera as 10 melhores recomendações para todos os usuários do conjunto de dados.\n",
        "*   *   A função retorna um DataFrame contendo as recomendações de filmes para cada usuário.\n",
        "*   **filter(col(\"userId\") == user_id)** : Filtra o DataFrame gerado para obter apenas as recomendações do usuário com o user_id=1\n",
        "\n"
      ],
      "metadata": {
        "id": "i6RFTBaHfWhz"
      }
    },
    {
      "cell_type": "code",
      "source": [
        "user_id = 1\n",
        "user_recommendations = model.recommendForAllUsers(10)\n",
        "recommendations = user_recommendations.filter(col(\"userId\") == user_id)\n",
        "\n",
        "print(f\"Recomendações para o usuário {user_id}:\")\n",
        "recommendations.show(truncate=False)"
      ],
      "metadata": {
        "id": "j6HFMDXbfZL9",
        "colab": {
          "base_uri": "https://localhost:8080/"
        },
        "outputId": "64f0d676-db14-4294-c026-cf2163c750ca"
      },
      "execution_count": null,
      "outputs": [
        {
          "output_type": "stream",
          "name": "stdout",
          "text": [
            "Recomendações para o usuário 1:\n",
            "+------+-----------------------------------------------------------------------------------------------------------------------------------------------------------------------------------------------------------+\n",
            "|userId|recommendations                                                                                                                                                                                            |\n",
            "+------+-----------------------------------------------------------------------------------------------------------------------------------------------------------------------------------------------------------+\n",
            "|1     |[{177209, 5.4461946}, {183947, 5.278643}, {192089, 5.2052555}, {143422, 5.009919}, {165559, 4.9957924}, {93991, 4.951272}, {144208, 4.8712063}, {166812, 4.86883}, {165689, 4.852002}, {203086, 4.8440785}]|\n",
            "+------+-----------------------------------------------------------------------------------------------------------------------------------------------------------------------------------------------------------+\n",
            "\n"
          ]
        }
      ]
    },
    {
      "cell_type": "markdown",
      "source": [
        "\n",
        "\n",
        "---\n",
        "\n"
      ],
      "metadata": {
        "id": "ZK4oYFk6PKt9"
      }
    },
    {
      "cell_type": "markdown",
      "source": [
        "**Recomendações com títulos**\n",
        "\n",
        "\n",
        "*   **explode(\"recommendations\")** :\n",
        "*   *   A coluna recommendations, gerada pelo modelo ALS, contém uma lista de objetos (movieId e rating).\n",
        "*   *   O método ***explode*** transforma essa lista em várias linhas, onde cada linha contém apenas um item da lista\n",
        "*   **select(\"userId\", explode(...))** : A nova tabela resultante terá duas colunas: *userId* e *recommendation* (contendo movieId e rating)\n",
        "*   **join(movies, \"movieId\")** : Realiza um join entre as tabelas recommendations e movies com base na coluna movieId.\n",
        "\n",
        "\n"
      ],
      "metadata": {
        "id": "Tf_h43oUfa2K"
      }
    },
    {
      "cell_type": "code",
      "source": [
        "recommendations = recommendations.select(\"userId\", explode(\"recommendations\").alias(\"recommendation\"))\n",
        "recommendations = recommendations.select(\"userId\", col(\"recommendation.movieId\").alias(\"movieId\"), col(\"recommendation.rating\").alias(\"predicted_rating\"))\n",
        "\n",
        "recommendations_with_titles = recommendations.join(movies, \"movieId\")\n",
        "\n",
        "print(f\"Recomendações para o usuário {user_id} com títulos:\")\n",
        "recommendations_with_titles.show(10, truncate=False)"
      ],
      "metadata": {
        "id": "R1D-Qs6WfajQ",
        "colab": {
          "base_uri": "https://localhost:8080/"
        },
        "outputId": "a75f073c-c8b6-48f8-c754-95a51023f380"
      },
      "execution_count": null,
      "outputs": [
        {
          "output_type": "stream",
          "name": "stdout",
          "text": [
            "Recomendações para o usuário 1 com títulos:\n",
            "+-------+------+----------------+--------------------------------------------------+---------------------------+\n",
            "|movieId|userId|predicted_rating|title                                             |genres                     |\n",
            "+-------+------+----------------+--------------------------------------------------+---------------------------+\n",
            "|177209 |1     |5.4461946       |Acı Aşk (2009)                                    |[Drama]                    |\n",
            "|183947 |1     |5.278643        |NOFX Backstage Passport 2                         |[(no genres listed)]       |\n",
            "|192089 |1     |5.2052555       |National Theatre Live: One Man, Two Guvnors (2011)|[Comedy]                   |\n",
            "|143422 |1     |5.009919        |2 (2007)                                          |[Drama]                    |\n",
            "|165559 |1     |4.9957924       |Ο Θανάσης στη χώρα της σφαλιάρας (1976)           |[(no genres listed)]       |\n",
            "|93991  |1     |4.951272        |Eye for an Eye, An (Silmä silmästä) (1999)        |[Horror]                   |\n",
            "|144208 |1     |4.8712063       |Bicycle Dreams (2009)                             |[Adventure, Documentary]   |\n",
            "|166812 |1     |4.86883         |Seeing Red: Stories of American Communists (1983) |[(no genres listed)]       |\n",
            "|165689 |1     |4.852002        |Head Trauma (2006)                                |[Horror, Mystery, Thriller]|\n",
            "|203086 |1     |4.8440785       |Truth and Justice (2019)                          |[Drama]                    |\n",
            "+-------+------+----------------+--------------------------------------------------+---------------------------+\n",
            "\n"
          ]
        }
      ]
    },
    {
      "cell_type": "markdown",
      "source": [
        "\n",
        "\n",
        "---\n",
        "\n"
      ],
      "metadata": {
        "id": "gaANbIQLPONO"
      }
    },
    {
      "cell_type": "markdown",
      "source": [
        "**Visualização de Dados**"
      ],
      "metadata": {
        "id": "WpZra-pMfcqX"
      }
    },
    {
      "cell_type": "code",
      "source": [
        "# Converter distribuição de ratings para Pandas e plotar\n",
        "ratings_distribution_pd = ratings_distribution.toPandas()\n",
        "ratings_distribution_pd.plot(kind='bar', x='rating', y='count', legend=False, title='Distribuição de Ratings')\n",
        "plt.xlabel(\"Rating\")\n",
        "plt.ylabel(\"Contagem\")\n",
        "plt.show()"
      ],
      "metadata": {
        "colab": {
          "base_uri": "https://localhost:8080/",
          "height": 480
        },
        "id": "vCQgyvGjfeYM",
        "outputId": "7a738014-f7b5-47ae-b1b9-317e122e64a5"
      },
      "execution_count": null,
      "outputs": [
        {
          "output_type": "display_data",
          "data": {
            "text/plain": [
              "<Figure size 640x480 with 1 Axes>"
            ],
            "image/png": "[encoded data removed]"
          },
          "metadata": {}
        }
      ]
    },
    {
      "cell_type": "markdown",
      "source": [
        "\n",
        "\n",
        "---\n",
        "\n"
      ],
      "metadata": {
        "id": "ze7Hmk2dPR2n"
      }
    },
    {
      "cell_type": "markdown",
      "source": [
        "**Visualizar recomendações para o usuário**"
      ],
      "metadata": {
        "id": "TnHua2g-fgFX"
      }
    },
    {
      "cell_type": "code",
      "source": [
        "user_recommendations_df = recommendations_with_titles.toPandas()\n",
        "user_recommendations_df.plot(kind=\"barh\", x=\"title\", y=\"predicted_rating\", title=f\"Recomendações para o Usuário {user_id}\")\n",
        "plt.xlabel(\"Predicted Rating\")\n",
        "plt.ylabel(\"Título\")\n",
        "plt.show()"
      ],
      "metadata": {
        "colab": {
          "base_uri": "https://localhost:8080/",
          "height": 472
        },
        "id": "lcM8Mo-hfiby",
        "outputId": "81f33172-9483-4393-8740-37ee401a2b14"
      },
      "execution_count": null,
      "outputs": [
        {
          "output_type": "display_data",
          "data": {
            "text/plain": [
              "<Figure size 640x480 with 1 Axes>"
            ],
            "image/png": "[encoded data removed]"
          },
          "metadata": {}
        }
      ]
    },
    {
      "cell_type": "markdown",
      "source": [
        "\n",
        "\n",
        "---\n",
        "\n"
      ],
      "metadata": {
        "id": "8lhCcEQ9PbuZ"
      }
    },
    {
      "cell_type": "markdown",
      "source": [
        "**Finalizar e salvar**"
      ],
      "metadata": {
        "id": "pZS5JrZMfkEw"
      }
    },
    {
      "cell_type": "code",
      "source": [
        "# Salvar recomendações em CSV\n",
        "from pyspark.sql.functions import concat_ws\n",
        "\n",
        "# Converter a coluna 'genres' (ARRAY<STRING>) em uma string delimitada\n",
        "recommendations_with_titles = recommendations_with_titles.withColumn(\n",
        "    \"genres\", concat_ws(\",\", \"genres\")\n",
        ")\n",
        "\n",
        "# Salvar em CSV\n",
        "recommendations_with_titles.write.mode(\"overwrite\").csv(\"recommendations_with_titles.csv\", header=True)\n",
        "\n",
        "print(\"Processo concluído com sucesso!\")\n"
      ],
      "metadata": {
        "colab": {
          "base_uri": "https://localhost:8080/"
        },
        "id": "_ai3OTeffljG",
        "outputId": "792ab07b-f66f-42a6-a901-f6eb628793dd"
      },
      "execution_count": null,
      "outputs": [
        {
          "output_type": "stream",
          "name": "stdout",
          "text": [
            "Processo concluído com sucesso!\n"
          ]
        }
      ]
    }
  ]
}